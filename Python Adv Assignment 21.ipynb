{
 "cells": [
  {
   "cell_type": "markdown",
   "id": "9d7471bc",
   "metadata": {},
   "source": [
    "# Q1. What is a probability distribution, exactly? If the values are meant to be random, how can you predict them at all?\n"
   ]
  },
  {
   "cell_type": "markdown",
   "id": "44bdee89",
   "metadata": {},
   "source": [
    "Ans: A probability distribution describes how a random variable is distributed.\n",
    "\n",
    "It tells us which values a random variable is most likely to take on and which values are less likely. Based on the previous data and the occurences of the random event, we can predict the outcome in terms of probabilities.\n",
    "\n"
   ]
  },
  {
   "cell_type": "markdown",
   "id": "bf998e6f",
   "metadata": {},
   "source": [
    "# Q2. Is there a distinction between true random numbers and pseudo-random numbers, if there is one? Why are the latter considered “good enough”?\n",
    "\n"
   ]
  },
  {
   "cell_type": "markdown",
   "id": "eeaa6baf",
   "metadata": {},
   "source": [
    "Ans: : True Random Numbers are true physical values while pseudo-random numbers are generated internally by a program . Latter is considered good enough as they have sort of uniform distribution."
   ]
  },
  {
   "cell_type": "markdown",
   "id": "d0af2a82",
   "metadata": {},
   "source": [
    "# Q3. What are the two main factors that influence the behaviour of a &quot;normal&quot; probability distribution?\n",
    "\n"
   ]
  },
  {
   "cell_type": "markdown",
   "id": "e2c802f3",
   "metadata": {},
   "source": [
    "Ans: Normal Probability Distribution are influenced by two factors mean and the variance."
   ]
  },
  {
   "cell_type": "markdown",
   "id": "4600d8d7",
   "metadata": {},
   "source": [
    "# Q4. Provide a real-life example of a normal distribution.\n",
    "\n"
   ]
  },
  {
   "cell_type": "markdown",
   "id": "7fa63321",
   "metadata": {},
   "source": [
    "ns: A Real-life example of a normal distribution are heights or blood pressure measurements."
   ]
  },
  {
   "cell_type": "markdown",
   "id": "8e63a2fc",
   "metadata": {},
   "source": [
    "# Q5. In the short term, how can you expect a probability distribution to behave? What do you think will happen as the number of trials grows?\n",
    "\n"
   ]
  },
  {
   "cell_type": "markdown",
   "id": "4f98066a",
   "metadata": {},
   "source": [
    "Ans: Variance will decrease with number of trials"
   ]
  },
  {
   "cell_type": "markdown",
   "id": "7492c365",
   "metadata": {},
   "source": [
    "# Q6. What kind of object can be shuffled by using random.shuffle?\n",
    "\n"
   ]
  },
  {
   "cell_type": "markdown",
   "id": "7a3ae50c",
   "metadata": {},
   "source": [
    "Ans: lists (list), strings (str) and tuples (tuple) objects can be shuffled by using random.shuffle."
   ]
  },
  {
   "cell_type": "markdown",
   "id": "e5e3a46d",
   "metadata": {},
   "source": [
    "# Q7. Describe the math package&#39;s general categories of functions.\n",
    "\n"
   ]
  },
  {
   "cell_type": "markdown",
   "id": "ab4ed83a",
   "metadata": {},
   "source": [
    "Ans: The Math package's general categories of functions are:\n",
    "\n",
    "1. Trigonometric functions\n",
    "2. Quadratic functions\n",
    "3. Exponential functions\n",
    "4. Hyperbolic functions\n",
    "5. Periodic functions\n",
    "6. Arithmetic functions\n",
    "7. Logarithimic functions\n",
    "8. Conversions to Integer"
   ]
  },
  {
   "cell_type": "markdown",
   "id": "b04e7ecc",
   "metadata": {},
   "source": [
    "# Q8. What is the relationship between exponential and logarithmic?\n"
   ]
  },
  {
   "cell_type": "markdown",
   "id": "7e05f0eb",
   "metadata": {},
   "source": [
    "Ans: Exponentiation and logarithms are inverse of each other."
   ]
  },
  {
   "cell_type": "markdown",
   "id": "dfaa6d9e",
   "metadata": {},
   "source": [
    "# Q9. What are the three logarithmic functions that Python supports?"
   ]
  },
  {
   "cell_type": "markdown",
   "id": "c02dc56d",
   "metadata": {},
   "source": [
    "Ans: The Three Logarithmic Functions that Python supports are:\n",
    "\n",
    "1. log2(x) - logarithmic value of x to base 2\n",
    "2. log10(x) - logarithmic value of x to base 10\n",
    "3. log1p(a) - This function is used to compute logarithm(1+a) ."
   ]
  },
  {
   "cell_type": "markdown",
   "id": "e219f188",
   "metadata": {},
   "source": []
  },
  {
   "cell_type": "markdown",
   "id": "6c18c1a0",
   "metadata": {},
   "source": []
  },
  {
   "cell_type": "markdown",
   "id": "add6e6be",
   "metadata": {},
   "source": []
  }
 ],
 "metadata": {
  "kernelspec": {
   "display_name": "Python 3 (ipykernel)",
   "language": "python",
   "name": "python3"
  },
  "language_info": {
   "codemirror_mode": {
    "name": "ipython",
    "version": 3
   },
   "file_extension": ".py",
   "mimetype": "text/x-python",
   "name": "python",
   "nbconvert_exporter": "python",
   "pygments_lexer": "ipython3",
   "version": "3.9.12"
  }
 },
 "nbformat": 4,
 "nbformat_minor": 5
}
