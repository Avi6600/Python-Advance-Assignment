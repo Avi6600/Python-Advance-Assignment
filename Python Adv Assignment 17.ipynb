{
 "cells": [
  {
   "cell_type": "markdown",
   "id": "db5d9be5",
   "metadata": {},
   "source": [
    "# Q1. Explain the difference between greedy and non-greedy syntax with visual terms in as few words as possible. What is the bare minimum effort required to transform a greedy pattern into a non-greedy one? What characters or characters can you introduce or change?\n",
    "\n"
   ]
  },
  {
   "cell_type": "markdown",
   "id": "62faf8ed",
   "metadata": {},
   "source": [
    "Ans: The Main difference between Greedy and Non Greedy Match Syntax is The Greedy Match will try to match as many repetitions of the quantified pattern as possible Whereas The Non Greedy Match will try to match as few repetitions of the quantified pattern as possible"
   ]
  },
  {
   "cell_type": "code",
   "execution_count": 1,
   "id": "085552af",
   "metadata": {},
   "outputs": [
    {
     "name": "stdout",
     "output_type": "stream",
     "text": [
      "['vvvvvv', '']\n",
      "['', 'v', '', 'v', '', 'v', '', 'v', '', 'v', '', 'v', '']\n"
     ]
    }
   ],
   "source": [
    "import re\n",
    "print(re.findall(\"v*\", \"vvvvvv\")) # Greedy Match Synatx\n",
    "print(re.findall(\"v*?\", \"vvvvvv\")) # Non Greddy Syntax"
   ]
  },
  {
   "cell_type": "markdown",
   "id": "ff993e64",
   "metadata": {},
   "source": [
    "# Q2. When exactly does greedy versus non-greedy make a difference?  What if you&#39;re looking for anon-greedy match but the only one available is greedy?\n",
    "\n"
   ]
  },
  {
   "cell_type": "markdown",
   "id": "452b644b",
   "metadata": {},
   "source": [
    "Ans: The Greedy Match will try to match as many repetitions of the quantified pattern as possible. The Non Greedy Match will try to match as few repetitions of the quantified pattern as possible. If only Non Greedy Match is available, we can use other filtering or pattern matching methods of regex and further identify the required pattern."
   ]
  },
  {
   "cell_type": "markdown",
   "id": "8f7e7ecb",
   "metadata": {},
   "source": [
    "# Q3. In a simple match of a string, which looks only for one match and does not do any replacement, is the use of a nontagged group likely to make any practical difference?\n",
    "\n"
   ]
  },
  {
   "cell_type": "markdown",
   "id": "fcc8af54",
   "metadata": {},
   "source": [
    "Ans: In this Case The Non Tagged Group will not make any diffrence in this case."
   ]
  },
  {
   "cell_type": "code",
   "execution_count": 2,
   "id": "2cd08baf",
   "metadata": {},
   "outputs": [
    {
     "name": "stdout",
     "output_type": "stream",
     "text": [
      "Phone number found -> 234\n",
      "Phone number found -> 234\n"
     ]
    }
   ],
   "source": [
    "import re\n",
    "phoneNumRegex = re.compile(r'\\d\\d\\d')\n",
    "num = phoneNumRegex.search('My number is 234-567-8901.')\n",
    "print(f'Phone number found -> {num.group()}') # Non Tagged group\n",
    "print(f'Phone number found -> {num.group(0)}') # Tagged Group"
   ]
  },
  {
   "cell_type": "markdown",
   "id": "146e29fa",
   "metadata": {},
   "source": [
    "# Q4. Describe a scenario in which using a nontagged category would have a significant impact on the program&#39;s outcomes.\n"
   ]
  },
  {
   "cell_type": "markdown",
   "id": "6712cb48",
   "metadata": {},
   "source": [
    "Ans: Here in the below Code Snippet . decimal is not tagged or captured. It will useful in scenarios where the separator of value in a string is of no use and we need to capture only the values."
   ]
  },
  {
   "cell_type": "code",
   "execution_count": 3,
   "id": "77ed96eb",
   "metadata": {},
   "outputs": [
    {
     "data": {
      "text/plain": [
       "('135', '456')"
      ]
     },
     "execution_count": 3,
     "metadata": {},
     "output_type": "execute_result"
    }
   ],
   "source": [
    "import re\n",
    "text='135.456'\n",
    "pattern=r'(\\d+)(?:.)(\\d+)'\n",
    "regobj=re.compile(pattern)\n",
    "matobj=regobj.search(text)\n",
    "matobj.groups()"
   ]
  },
  {
   "cell_type": "markdown",
   "id": "32dae64c",
   "metadata": {},
   "source": [
    "# Q5. Unlike a normal regex pattern, a look-ahead condition does not consume the characters itexamines. Describe a situation in which this could make a difference in the results of your programme.\n",
    "\n"
   ]
  },
  {
   "cell_type": "markdown",
   "id": "6eb7799c",
   "metadata": {},
   "source": [
    "Ans: While counting the number of multiple lines or mutiple sentence in a string the positive look ahead makes a difference, without which we wont get the correct count of lines or sentences in a string."
   ]
  },
  {
   "cell_type": "markdown",
   "id": "03f2a7eb",
   "metadata": {},
   "source": [
    "# Q6. In standard expressions, what is the difference between positive look-ahead and negative look-ahead?\n",
    "\n"
   ]
  },
  {
   "cell_type": "markdown",
   "id": "dfb2565a",
   "metadata": {},
   "source": [
    "Ans: Positive Lookahead allows to add a condition for what follows. Negative Lookahead is similar, but it looks behind. That is, it allows to match a pattern only if there’s something before it."
   ]
  },
  {
   "cell_type": "markdown",
   "id": "28805c6a",
   "metadata": {},
   "source": [
    "# Q7. What is the benefit of referring to groups by name rather than by number in a standard expression?\n"
   ]
  },
  {
   "cell_type": "markdown",
   "id": "396c6895",
   "metadata": {},
   "source": [
    "Ans: Referring to groups by name rather than by number in a standard expression helps to keep the code clear and easy to understand."
   ]
  },
  {
   "cell_type": "markdown",
   "id": "38ecb774",
   "metadata": {},
   "source": [
    "# Q8. Can you identify repeated items within a target string using named groups, as in &quot;The cow jumped over the moon&quot;?\n",
    "\n"
   ]
  },
  {
   "cell_type": "code",
   "execution_count": null,
   "id": "9bf63298",
   "metadata": {},
   "outputs": [],
   "source": [
    "import re\n",
    "text = \"The cow jumped over the moon\"\n",
    "regobj=re.compile(r'(?PThe)',re.I)\n",
    "regobj.findall(text)"
   ]
  },
  {
   "cell_type": "markdown",
   "id": "596dbfcc",
   "metadata": {},
   "source": [
    "# Q9. When parsing a string, what is at least one thing that the Scanner interface does for you that there.findall feature does not?\n",
    "\n"
   ]
  },
  {
   "cell_type": "markdown",
   "id": "57d53e11",
   "metadata": {},
   "source": [
    "Ans: re.findall() module is used to search for all occurrences that match a given pattern. In contrast, re.search() will only return the first occurrence that matches the specified pattern. re.findall() will iterate over all the lines of the file and will return all non-overlapping matches of pattern in a single step."
   ]
  },
  {
   "cell_type": "markdown",
   "id": "da27a4be",
   "metadata": {},
   "source": [
    "# Q10. Does a scanner object have to be named scanner?"
   ]
  },
  {
   "cell_type": "markdown",
   "id": "3b85d6bb",
   "metadata": {},
   "source": [
    "Ans: Yes, It may have any name."
   ]
  }
 ],
 "metadata": {
  "kernelspec": {
   "display_name": "Python 3 (ipykernel)",
   "language": "python",
   "name": "python3"
  },
  "language_info": {
   "codemirror_mode": {
    "name": "ipython",
    "version": 3
   },
   "file_extension": ".py",
   "mimetype": "text/x-python",
   "name": "python",
   "nbconvert_exporter": "python",
   "pygments_lexer": "ipython3",
   "version": "3.9.12"
  }
 },
 "nbformat": 4,
 "nbformat_minor": 5
}
